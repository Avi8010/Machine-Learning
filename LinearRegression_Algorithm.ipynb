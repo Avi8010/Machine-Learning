{
 "cells": [
  {
   "cell_type": "code",
   "execution_count": 1,
   "metadata": {},
   "outputs": [],
   "source": [
    "import numpy as np\n",
    "import matplotlib.pyplot as plt\n",
    "import pandas as pd\n",
    "from sklearn.model_selection import train_test_split\n",
    "from sklearn.linear_model import LinearRegression\n",
    "from sklearn import metrics\n",
    "\n",
    "df = pd.read_csv('temperatures.csv');\n"
   ]
  },
  {
   "cell_type": "code",
   "execution_count": 2,
   "metadata": {},
   "outputs": [
    {
     "data": {
      "text/plain": [
       "(117, 18)"
      ]
     },
     "execution_count": 2,
     "metadata": {},
     "output_type": "execute_result"
    }
   ],
   "source": [
    "df.shape"
   ]
  },
  {
   "cell_type": "code",
   "execution_count": 31,
   "metadata": {},
   "outputs": [],
   "source": [
    "X = df.iloc[:,0:1].values\n",
    "y = df.iloc[:,1:2].values"
   ]
  },
  {
   "cell_type": "code",
   "execution_count": 32,
   "metadata": {},
   "outputs": [
    {
     "data": {
      "text/plain": [
       "array([[1901],\n",
       "       [1902],\n",
       "       [1903],\n",
       "       [1904],\n",
       "       [1905],\n",
       "       [1906],\n",
       "       [1907],\n",
       "       [1908],\n",
       "       [1909],\n",
       "       [1910],\n",
       "       [1911],\n",
       "       [1912],\n",
       "       [1913],\n",
       "       [1914],\n",
       "       [1915],\n",
       "       [1916],\n",
       "       [1917],\n",
       "       [1918],\n",
       "       [1919],\n",
       "       [1920],\n",
       "       [1921],\n",
       "       [1922],\n",
       "       [1923],\n",
       "       [1924],\n",
       "       [1925],\n",
       "       [1926],\n",
       "       [1927],\n",
       "       [1928],\n",
       "       [1929],\n",
       "       [1930],\n",
       "       [1931],\n",
       "       [1932],\n",
       "       [1933],\n",
       "       [1934],\n",
       "       [1935],\n",
       "       [1936],\n",
       "       [1937],\n",
       "       [1938],\n",
       "       [1939],\n",
       "       [1940],\n",
       "       [1941],\n",
       "       [1942],\n",
       "       [1943],\n",
       "       [1944],\n",
       "       [1945],\n",
       "       [1946],\n",
       "       [1947],\n",
       "       [1948],\n",
       "       [1949],\n",
       "       [1950],\n",
       "       [1951],\n",
       "       [1952],\n",
       "       [1953],\n",
       "       [1954],\n",
       "       [1955],\n",
       "       [1956],\n",
       "       [1957],\n",
       "       [1958],\n",
       "       [1959],\n",
       "       [1960],\n",
       "       [1961],\n",
       "       [1962],\n",
       "       [1963],\n",
       "       [1964],\n",
       "       [1965],\n",
       "       [1966],\n",
       "       [1967],\n",
       "       [1968],\n",
       "       [1969],\n",
       "       [1970],\n",
       "       [1971],\n",
       "       [1972],\n",
       "       [1973],\n",
       "       [1974],\n",
       "       [1975],\n",
       "       [1976],\n",
       "       [1977],\n",
       "       [1978],\n",
       "       [1979],\n",
       "       [1980],\n",
       "       [1981],\n",
       "       [1982],\n",
       "       [1983],\n",
       "       [1984],\n",
       "       [1985],\n",
       "       [1986],\n",
       "       [1987],\n",
       "       [1988],\n",
       "       [1989],\n",
       "       [1990],\n",
       "       [1991],\n",
       "       [1992],\n",
       "       [1993],\n",
       "       [1994],\n",
       "       [1995],\n",
       "       [1996],\n",
       "       [1997],\n",
       "       [1998],\n",
       "       [1999],\n",
       "       [2000],\n",
       "       [2001],\n",
       "       [2002],\n",
       "       [2003],\n",
       "       [2004],\n",
       "       [2005],\n",
       "       [2006],\n",
       "       [2007],\n",
       "       [2008],\n",
       "       [2009],\n",
       "       [2010],\n",
       "       [2011],\n",
       "       [2012],\n",
       "       [2013],\n",
       "       [2014],\n",
       "       [2015],\n",
       "       [2016],\n",
       "       [2017]])"
      ]
     },
     "execution_count": 32,
     "metadata": {},
     "output_type": "execute_result"
    }
   ],
   "source": [
    "X"
   ]
  },
  {
   "cell_type": "code",
   "execution_count": 33,
   "metadata": {},
   "outputs": [
    {
     "data": {
      "text/plain": [
       "array([[22.4 ],\n",
       "       [24.93],\n",
       "       [23.44],\n",
       "       [22.5 ],\n",
       "       [22.  ],\n",
       "       [22.28],\n",
       "       [24.46],\n",
       "       [23.57],\n",
       "       [22.67],\n",
       "       [23.24],\n",
       "       [23.22],\n",
       "       [23.7 ],\n",
       "       [23.71],\n",
       "       [24.42],\n",
       "       [22.6 ],\n",
       "       [24.13],\n",
       "       [23.68],\n",
       "       [22.06],\n",
       "       [23.32],\n",
       "       [22.87],\n",
       "       [23.57],\n",
       "       [22.96],\n",
       "       [23.25],\n",
       "       [22.84],\n",
       "       [22.56],\n",
       "       [23.54],\n",
       "       [23.23],\n",
       "       [23.33],\n",
       "       [23.05],\n",
       "       [22.6 ],\n",
       "       [24.57],\n",
       "       [24.13],\n",
       "       [22.85],\n",
       "       [22.76],\n",
       "       [22.28],\n",
       "       [23.1 ],\n",
       "       [23.34],\n",
       "       [22.95],\n",
       "       [23.61],\n",
       "       [23.79],\n",
       "       [23.18],\n",
       "       [22.99],\n",
       "       [22.97],\n",
       "       [23.17],\n",
       "       [22.38],\n",
       "       [24.41],\n",
       "       [22.61],\n",
       "       [22.87],\n",
       "       [24.31],\n",
       "       [23.56],\n",
       "       [24.36],\n",
       "       [23.91],\n",
       "       [22.96],\n",
       "       [22.79],\n",
       "       [23.46],\n",
       "       [23.16],\n",
       "       [22.98],\n",
       "       [24.75],\n",
       "       [23.33],\n",
       "       [23.78],\n",
       "       [24.14],\n",
       "       [22.89],\n",
       "       [22.9 ],\n",
       "       [23.06],\n",
       "       [23.82],\n",
       "       [24.11],\n",
       "       [23.72],\n",
       "       [22.67],\n",
       "       [23.78],\n",
       "       [24.19],\n",
       "       [23.91],\n",
       "       [24.46],\n",
       "       [24.02],\n",
       "       [23.54],\n",
       "       [23.15],\n",
       "       [23.91],\n",
       "       [23.98],\n",
       "       [23.6 ],\n",
       "       [24.6 ],\n",
       "       [24.35],\n",
       "       [23.73],\n",
       "       [24.23],\n",
       "       [23.89],\n",
       "       [23.59],\n",
       "       [23.84],\n",
       "       [23.61],\n",
       "       [23.81],\n",
       "       [24.12],\n",
       "       [23.22],\n",
       "       [24.24],\n",
       "       [23.31],\n",
       "       [23.84],\n",
       "       [23.82],\n",
       "       [24.67],\n",
       "       [24.44],\n",
       "       [25.18],\n",
       "       [23.3 ],\n",
       "       [23.95],\n",
       "       [23.57],\n",
       "       [24.44],\n",
       "       [24.36],\n",
       "       [24.56],\n",
       "       [24.27],\n",
       "       [23.89],\n",
       "       [24.18],\n",
       "       [25.66],\n",
       "       [25.19],\n",
       "       [23.97],\n",
       "       [25.27],\n",
       "       [24.89],\n",
       "       [24.18],\n",
       "       [23.61],\n",
       "       [24.56],\n",
       "       [23.83],\n",
       "       [24.58],\n",
       "       [26.94],\n",
       "       [26.45]])"
      ]
     },
     "execution_count": 33,
     "metadata": {},
     "output_type": "execute_result"
    }
   ],
   "source": [
    "y"
   ]
  },
  {
   "cell_type": "code",
   "execution_count": 34,
   "metadata": {},
   "outputs": [],
   "source": [
    "X_train, X_test, y_train, y_test = train_test_split(X, y, test_size = 0.25, random_state = 0)"
   ]
  },
  {
   "cell_type": "code",
   "execution_count": 35,
   "metadata": {},
   "outputs": [
    {
     "data": {
      "text/plain": [
       "array([[1998],\n",
       "       [1967],\n",
       "       [2010],\n",
       "       [1904],\n",
       "       [1964],\n",
       "       [1907],\n",
       "       [1969],\n",
       "       [1946],\n",
       "       [1990],\n",
       "       [2003],\n",
       "       [1986],\n",
       "       [1979],\n",
       "       [1985],\n",
       "       [1928],\n",
       "       [1919],\n",
       "       [1912],\n",
       "       [1961],\n",
       "       [1999],\n",
       "       [1955],\n",
       "       [1993],\n",
       "       [1952],\n",
       "       [1902],\n",
       "       [1972],\n",
       "       [1943],\n",
       "       [1942],\n",
       "       [1905],\n",
       "       [1916],\n",
       "       [1918],\n",
       "       [1953],\n",
       "       [1941],\n",
       "       [1939],\n",
       "       [1906],\n",
       "       [1954],\n",
       "       [2008],\n",
       "       [1976],\n",
       "       [1901],\n",
       "       [1935],\n",
       "       [1929],\n",
       "       [1956],\n",
       "       [1936],\n",
       "       [1924],\n",
       "       [1932],\n",
       "       [1977],\n",
       "       [1958],\n",
       "       [1991],\n",
       "       [2001],\n",
       "       [1933],\n",
       "       [2000],\n",
       "       [1915],\n",
       "       [1997],\n",
       "       [1920],\n",
       "       [1930],\n",
       "       [1950],\n",
       "       [1983],\n",
       "       [2015],\n",
       "       [2016],\n",
       "       [1980],\n",
       "       [1970],\n",
       "       [1981],\n",
       "       [1921],\n",
       "       [2011],\n",
       "       [1973],\n",
       "       [1978],\n",
       "       [1926],\n",
       "       [1938],\n",
       "       [1982],\n",
       "       [2012],\n",
       "       [1947],\n",
       "       [2007],\n",
       "       [1940],\n",
       "       [1966],\n",
       "       [1959],\n",
       "       [1913],\n",
       "       [2005],\n",
       "       [1989],\n",
       "       [1971],\n",
       "       [1988],\n",
       "       [1937],\n",
       "       [1922],\n",
       "       [1984],\n",
       "       [1910],\n",
       "       [2004],\n",
       "       [2014],\n",
       "       [1968],\n",
       "       [1965],\n",
       "       [1948],\n",
       "       [1945]])"
      ]
     },
     "execution_count": 35,
     "metadata": {},
     "output_type": "execute_result"
    }
   ],
   "source": [
    "X_train"
   ]
  },
  {
   "cell_type": "raw",
   "metadata": {},
   "source": []
  },
  {
   "cell_type": "code",
   "execution_count": 36,
   "metadata": {},
   "outputs": [
    {
     "data": {
      "text/plain": [
       "array([[1911],\n",
       "       [1960],\n",
       "       [1996],\n",
       "       [1992],\n",
       "       [1908],\n",
       "       [1987],\n",
       "       [1927],\n",
       "       [2013],\n",
       "       [1923],\n",
       "       [1995],\n",
       "       [2002],\n",
       "       [1903],\n",
       "       [1951],\n",
       "       [1925],\n",
       "       [2017],\n",
       "       [1963],\n",
       "       [1994],\n",
       "       [1975],\n",
       "       [1962],\n",
       "       [1974],\n",
       "       [1917],\n",
       "       [2009],\n",
       "       [1914],\n",
       "       [1944],\n",
       "       [2006],\n",
       "       [1934],\n",
       "       [1931],\n",
       "       [1957],\n",
       "       [1949],\n",
       "       [1909]])"
      ]
     },
     "execution_count": 36,
     "metadata": {},
     "output_type": "execute_result"
    }
   ],
   "source": [
    "X_test"
   ]
  },
  {
   "cell_type": "code",
   "execution_count": 37,
   "metadata": {},
   "outputs": [
    {
     "data": {
      "text/plain": [
       "array([[23.95],\n",
       "       [23.72],\n",
       "       [24.89],\n",
       "       [22.5 ],\n",
       "       [23.06],\n",
       "       [24.46],\n",
       "       [23.78],\n",
       "       [24.41],\n",
       "       [24.24],\n",
       "       [24.27],\n",
       "       [23.61],\n",
       "       [24.6 ],\n",
       "       [23.84],\n",
       "       [23.33],\n",
       "       [23.32],\n",
       "       [23.7 ],\n",
       "       [24.14],\n",
       "       [23.57],\n",
       "       [23.46],\n",
       "       [23.82],\n",
       "       [23.91],\n",
       "       [24.93],\n",
       "       [24.46],\n",
       "       [22.97],\n",
       "       [22.99],\n",
       "       [22.  ],\n",
       "       [24.13],\n",
       "       [22.06],\n",
       "       [22.96],\n",
       "       [23.18],\n",
       "       [23.61],\n",
       "       [22.28],\n",
       "       [22.79],\n",
       "       [23.97],\n",
       "       [23.91],\n",
       "       [22.4 ],\n",
       "       [22.28],\n",
       "       [23.05],\n",
       "       [23.16],\n",
       "       [23.1 ],\n",
       "       [22.84],\n",
       "       [24.13],\n",
       "       [23.98],\n",
       "       [24.75],\n",
       "       [23.31],\n",
       "       [24.36],\n",
       "       [22.85],\n",
       "       [24.44],\n",
       "       [22.6 ],\n",
       "       [23.3 ],\n",
       "       [22.87],\n",
       "       [22.6 ],\n",
       "       [23.56],\n",
       "       [23.89],\n",
       "       [24.58],\n",
       "       [26.94],\n",
       "       [24.35],\n",
       "       [24.19],\n",
       "       [23.73],\n",
       "       [23.57],\n",
       "       [24.18],\n",
       "       [24.02],\n",
       "       [23.6 ],\n",
       "       [23.54],\n",
       "       [22.95],\n",
       "       [24.23],\n",
       "       [23.61],\n",
       "       [22.61],\n",
       "       [25.19],\n",
       "       [23.79],\n",
       "       [24.11],\n",
       "       [23.33],\n",
       "       [23.71],\n",
       "       [24.18],\n",
       "       [23.22],\n",
       "       [23.91],\n",
       "       [24.12],\n",
       "       [23.34],\n",
       "       [22.96],\n",
       "       [23.59],\n",
       "       [23.24],\n",
       "       [23.89],\n",
       "       [23.83],\n",
       "       [22.67],\n",
       "       [23.82],\n",
       "       [22.87],\n",
       "       [22.38]])"
      ]
     },
     "execution_count": 37,
     "metadata": {},
     "output_type": "execute_result"
    }
   ],
   "source": [
    "y_train"
   ]
  },
  {
   "cell_type": "code",
   "execution_count": 38,
   "metadata": {},
   "outputs": [
    {
     "data": {
      "text/plain": [
       "array([[23.22],\n",
       "       [23.78],\n",
       "       [25.18],\n",
       "       [23.84],\n",
       "       [23.57],\n",
       "       [23.81],\n",
       "       [23.23],\n",
       "       [24.56],\n",
       "       [23.25],\n",
       "       [24.44],\n",
       "       [24.56],\n",
       "       [23.44],\n",
       "       [24.36],\n",
       "       [22.56],\n",
       "       [26.45],\n",
       "       [22.9 ],\n",
       "       [24.67],\n",
       "       [23.15],\n",
       "       [22.89],\n",
       "       [23.54],\n",
       "       [23.68],\n",
       "       [25.27],\n",
       "       [24.42],\n",
       "       [23.17],\n",
       "       [25.66],\n",
       "       [22.76],\n",
       "       [24.57],\n",
       "       [22.98],\n",
       "       [24.31],\n",
       "       [22.67]])"
      ]
     },
     "execution_count": 38,
     "metadata": {},
     "output_type": "execute_result"
    }
   ],
   "source": [
    "y_test"
   ]
  },
  {
   "cell_type": "code",
   "execution_count": 39,
   "metadata": {},
   "outputs": [
    {
     "data": {
      "text/plain": [
       "LinearRegression()"
      ]
     },
     "execution_count": 39,
     "metadata": {},
     "output_type": "execute_result"
    }
   ],
   "source": [
    "linreg = LinearRegression()\n",
    "linreg.fit(X_train, y_train)"
   ]
  },
  {
   "cell_type": "code",
   "execution_count": 12,
   "metadata": {},
   "outputs": [
    {
     "name": "stdout",
     "output_type": "stream",
     "text": [
      "a0 = [-2.03972171]\n"
     ]
    }
   ],
   "source": [
    "print(f'a0 = {linreg.intercept_}')"
   ]
  },
  {
   "cell_type": "code",
   "execution_count": 13,
   "metadata": {},
   "outputs": [
    {
     "name": "stdout",
     "output_type": "stream",
     "text": [
      "a1 = [[0.01309434]]\n"
     ]
    }
   ],
   "source": [
    "print(f'a1 = {linreg.coef_}')"
   ]
  },
  {
   "cell_type": "code",
   "execution_count": 14,
   "metadata": {},
   "outputs": [],
   "source": [
    "y_predict=linreg.predict(X_test)\n"
   ]
  },
  {
   "cell_type": "code",
   "execution_count": 15,
   "metadata": {},
   "outputs": [
    {
     "data": {
      "text/plain": [
       "array([[22.98356275],\n",
       "       [23.62518543],\n",
       "       [24.09658168],\n",
       "       [24.04420432],\n",
       "       [22.94427973],\n",
       "       [23.97873262],\n",
       "       [23.19307219],\n",
       "       [24.31918547],\n",
       "       [23.14069483],\n",
       "       [24.08348734],\n",
       "       [24.17514772],\n",
       "       [22.87880803],\n",
       "       [23.50733636],\n",
       "       [23.16688351],\n",
       "       [24.37156283],\n",
       "       [23.66446845],\n",
       "       [24.070393  ],\n",
       "       [23.82160053],\n",
       "       [23.65137411],\n",
       "       [23.80850619],\n",
       "       [23.06212879],\n",
       "       [24.26680811],\n",
       "       [23.02284577],\n",
       "       [23.41567598],\n",
       "       [24.22752508],\n",
       "       [23.28473258],\n",
       "       [23.24544956],\n",
       "       [23.58590241],\n",
       "       [23.48114768],\n",
       "       [22.95737407]])"
      ]
     },
     "execution_count": 15,
     "metadata": {},
     "output_type": "execute_result"
    }
   ],
   "source": [
    "y_predict"
   ]
  },
  {
   "cell_type": "code",
   "execution_count": 16,
   "metadata": {},
   "outputs": [
    {
     "data": {
      "text/plain": [
       "array([[23.22],\n",
       "       [23.78],\n",
       "       [25.18],\n",
       "       [23.84],\n",
       "       [23.57],\n",
       "       [23.81],\n",
       "       [23.23],\n",
       "       [24.56],\n",
       "       [23.25],\n",
       "       [24.44],\n",
       "       [24.56],\n",
       "       [23.44],\n",
       "       [24.36],\n",
       "       [22.56],\n",
       "       [26.45],\n",
       "       [22.9 ],\n",
       "       [24.67],\n",
       "       [23.15],\n",
       "       [22.89],\n",
       "       [23.54],\n",
       "       [23.68],\n",
       "       [25.27],\n",
       "       [24.42],\n",
       "       [23.17],\n",
       "       [25.66],\n",
       "       [22.76],\n",
       "       [24.57],\n",
       "       [22.98],\n",
       "       [24.31],\n",
       "       [22.67]])"
      ]
     },
     "execution_count": 16,
     "metadata": {},
     "output_type": "execute_result"
    }
   ],
   "source": [
    "y_test\n"
   ]
  },
  {
   "cell_type": "code",
   "execution_count": 17,
   "metadata": {},
   "outputs": [
    {
     "data": {
      "image/png": "[encoded data removed]",
      "text/plain": [
       "<Figure size 432x288 with 1 Axes>"
      ]
     },
     "metadata": {
      "needs_background": "light"
     },
     "output_type": "display_data"
    }
   ],
   "source": [
    "plt.scatter(X_train, y_train, color='Red')\n",
    "plt.plot(X_train, linreg.predict(X_train), color='Green')\n",
    "plt.title('temperature vs month (Training Data)')\n",
    "plt.xlabel('temperature')\n",
    "plt.ylabel('months (feb)')\n",
    "plt.show()"
   ]
  },
  {
   "cell_type": "code",
   "execution_count": 18,
   "metadata": {},
   "outputs": [
    {
     "data": {
      "image/png": "[encoded data removed]",
      "text/plain": [
       "<Figure size 432x288 with 1 Axes>"
      ]
     },
     "metadata": {
      "needs_background": "light"
     },
     "output_type": "display_data"
    }
   ],
   "source": [
    "plt.scatter(X_test, y_test, color='Red')\n",
    "plt.plot(X_train, linreg.predict(X_train), color='Green')\n",
    "plt.title('temperature vs month (Testing Data)')\n",
    "plt.xlabel('temperature')\n",
    "plt.ylabel('months (feb)')\n",
    "plt.show()"
   ]
  },
  {
   "cell_type": "code",
   "execution_count": 19,
   "metadata": {},
   "outputs": [],
   "source": [
    "Predict_temp=linreg.predict([[1920]])"
   ]
  },
  {
   "cell_type": "code",
   "execution_count": 20,
   "metadata": {},
   "outputs": [
    {
     "data": {
      "text/plain": [
       "array([[23.10141181]])"
      ]
     },
     "execution_count": 20,
     "metadata": {},
     "output_type": "execute_result"
    }
   ],
   "source": [
    "Predict_temp"
   ]
  },
  {
   "cell_type": "code",
   "execution_count": 40,
   "metadata": {},
   "outputs": [
    {
     "data": {
      "text/plain": [
       "0.3007887233375116"
      ]
     },
     "execution_count": 40,
     "metadata": {},
     "output_type": "execute_result"
    }
   ],
   "source": [
    "r_square = metrics.r2_score(y_test, y_predict);\n",
    "r_square"
   ]
  },
  {
   "cell_type": "code",
   "execution_count": 43,
   "metadata": {},
   "outputs": [],
   "source": [
    "mean_square=metrics.mean_squared_error(y_test, y_predict);"
   ]
  },
  {
   "cell_type": "code",
   "execution_count": 44,
   "metadata": {},
   "outputs": [
    {
     "data": {
      "text/plain": [
       "0.6152615623919925"
      ]
     },
     "execution_count": 44,
     "metadata": {},
     "output_type": "execute_result"
    }
   ],
   "source": [
    "mean_square\n"
   ]
  },
  {
   "cell_type": "code",
   "execution_count": null,
   "metadata": {},
   "outputs": [],
   "source": []
  }
 ],
 "metadata": {
  "kernelspec": {
   "display_name": "Python 3",
   "language": "python",
   "name": "python3"
  },
  "language_info": {
   "codemirror_mode": {
    "name": "ipython",
    "version": 3
   },
   "file_extension": ".py",
   "mimetype": "text/x-python",
   "name": "python",
   "nbconvert_exporter": "python",
   "pygments_lexer": "ipython3",
   "version": "3.8.10"
  }
 },
 "nbformat": 4,
 "nbformat_minor": 4
}
